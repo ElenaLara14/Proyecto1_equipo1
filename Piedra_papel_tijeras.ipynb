{
 "cells": [
  {
   "cell_type": "code",
   "execution_count": 1,
   "metadata": {},
   "outputs": [
    {
     "name": "stdout",
     "output_type": "stream",
     "text": [
      "Jugador ha elegido Papel\n",
      "La máquina ha elegido Papel\n",
      "Empate\n",
      "¡Gracias por jugar Equipo1 !\n",
      " (\\__/)\n",
      " (>’.’<)\n",
      " («)_(«)\n"
     ]
    }
   ],
   "source": [
    "\n",
    "\n",
    "lista = [\"Piedra\", \"Papel\", \"Tijeras\"]\n",
    "\n",
    "import random\n",
    "maquina = random.choice(lista)\n",
    "\n",
    "Nombrejugador= input(\"Elige un nombre de Jugador\")\n",
    "jugador = input(\"Elige Piedra, papel o tijeras\").capitalize()\n",
    "\n",
    "import random\n",
    "maquina = random.choice(lista)\n",
    "\n",
    "\n",
    "if jugador == \"Piedra\":\n",
    "   print(\"Jugador ha elegido\", jugador)\n",
    "elif jugador == \"Papel\":\n",
    "    print(\"Jugador ha elegido\", jugador)  \n",
    "elif  jugador == \"Tijeras\":\n",
    "    print(\"Jugador ha elegido\", jugador) \n",
    "else: \n",
    "    print(\"No has elegido un valor correcto\")\n",
    "\n",
    "\n",
    "print(\"La máquina ha elegido\", maquina)\n",
    "\n",
    "if maquina == jugador:\n",
    "    print(\"Empate\")\n",
    "\n",
    "elif maquina == \"Tijeras\" and jugador == \"Papel\":\n",
    "    print(\"!Qué pena¡ Ha ganado la máquina, otra vez será\")\n",
    "\n",
    "elif maquina == \"Tijeras\" and jugador == \"Piedra\":\n",
    "    print(\"¡Felididades has ganado!\")\n",
    "\n",
    "elif maquina == \"Piedra\" and jugador == \"Tijeras\":\n",
    "    print(\"!Qué pena¡ Ha ganado la máquina, otra vez será\")\n",
    "\n",
    "elif maquina == \"Piedra\" and jugador == \"Papel\":\n",
    "    print(\"¡Felididades has ganado!\")\n",
    "\n",
    "elif maquina == \"Papel\" and jugador == \"Tijeras\":\n",
    "    print(\"¡Felididades has ganado!\")\n",
    "\n",
    "elif maquina == \"Papel\" and jugador == \"Piedra\":\n",
    "    print(\"!Qué pena¡ Ha ganado la máquina, otra vez será\")\n",
    "\n",
    "Gato = \"(\\__/)\"\"\\n\"\" (>’.’<)\"\"\\n\"\" («)_(«)\"\n",
    "print(\"¡Gracias por jugar\", Nombrejugador,\"!\"\"\\n\",Gato)\n",
    "\n",
    "\n",
    "\n",
    "\n",
    "\n",
    "\n"
   ]
  },
  {
   "cell_type": "markdown",
   "metadata": {},
   "source": []
  },
  {
   "cell_type": "code",
   "execution_count": 34,
   "metadata": {},
   "outputs": [
    {
     "name": "stdout",
     "output_type": "stream",
     "text": [
      "(¯`v´¯)\n",
      "  \\   /\n",
      "   \\ /\n",
      "    * \n",
      "(\\__/)\n",
      "(>’.’<)\n",
      "(«)_(«)\n"
     ]
    }
   ],
   "source": [
    "Corazon = \"(¯`v´¯)\"\"\\n\"\"  \\   /\"\"\\n\"\"   \\ /\"\"\\n\"\"    * \"  \n",
    "\n",
    "\n",
    "print(Corazon)\n",
    "\n",
    "\n",
    "\"(¯`v´¯)\"\"\\n\"\"  \\   /\"\"\\n\"\"   \\ /\"\"\\n\"\"    * \"  \n",
    "\n",
    "\n",
    "conejo = \"(\\__/)\"\"\\n\"\"(>’.’<)\"\"\\n\"\"(«)_(«)\"\n",
    "\n",
    "print(conejo)"
   ]
  }
 ],
 "metadata": {
  "kernelspec": {
   "display_name": "base",
   "language": "python",
   "name": "python3"
  },
  "language_info": {
   "codemirror_mode": {
    "name": "ipython",
    "version": 3
   },
   "file_extension": ".py",
   "mimetype": "text/x-python",
   "name": "python",
   "nbconvert_exporter": "python",
   "pygments_lexer": "ipython3",
   "version": "3.11.7"
  }
 },
 "nbformat": 4,
 "nbformat_minor": 2
}
