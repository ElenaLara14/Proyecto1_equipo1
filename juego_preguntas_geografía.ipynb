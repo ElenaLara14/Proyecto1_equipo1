{
 "cells": [
  {
   "cell_type": "code",
   "execution_count": 1,
   "metadata": {},
   "outputs": [
    {
     "name": "stdout",
     "output_type": "stream",
     "text": [
      "¿Cuál es la capital de Canadá?\n",
      "¿En qué continente se encuentra el desierto del Sahara?\n",
      "¿Cuál es la montaña más alta del mundo?\n",
      "¿Cuál es el río más largo del mundo?\n",
      "¿Cuál es el país más pequeño del mundo por superficie y población?\n",
      "¿Cuál es la capital de Canadá?\n",
      "¿Qué océano es el más grande del mundo?\n"
     ]
    }
   ],
   "source": [
    "import random\n",
    "\n",
    "# Diccionario con preguntas y respuestas de geografía\n",
    "preguntas = {\n",
    "    \"¿Cuál es el río más largo del mundo?\": \"El Nilo\",\n",
    "    \"¿En qué continente se encuentra el desierto del Sahara?\": \"África\",\n",
    "    \"¿Cuál es la capital de Australia?\": \"Canberra\",\n",
    "    \"¿Cuál es la montaña más alta del mundo?\": \"Monte Everest\",\n",
    "    \"¿Cuál es el país más pequeño del mundo por superficie y población?\": \"La Ciudad del Vaticano\",\n",
    "    \"¿Qué océano es el más grande del mundo?\": \"Pacífico\",\n",
    "    \"¿Cuál es el río más largo de América del Sur?\": \"Amazonas\",\n",
    "    \"¿En qué país se encuentra el desierto de Atacama?\": \"Chile\",\n",
    "    \"¿Cuál es la capital de Canadá?\": \"Ottawa\",\n",
    "    \"¿Cuál es el país más poblado del mundo?\": \"China\"}\n",
    "\n",
    "# Variables para el seguimiento de respuestas correctas e incorrectas\n",
    "respuestas_correctas = 0\n",
    "respuestas_incorrectas = 0\n",
    "max_intentos = 3\n",
    "max_correctas = 5\n",
    "\n",
    "# Convertir el diccionario a una lista de tuplas para usar con random.choice\n",
    "lista_preguntas = list(preguntas.items())\n",
    "\n",
    "# Bucle principal del juego\n",
    "while respuestas_correctas <= max_correctas and respuestas_incorrectas <= max_intentos:\n",
    " # Seleccionar una pregunta aleatoria - Desempaquetamos tupla para crear variable pregunta y respuesta correcta\n",
    "    pregunta, respuesta_correcta = random.choice(lista_preguntas)\n",
    "\n",
    "    print (pregunta)\n",
    "    respuesta_usuario = input(\"Tu respuesta es: \")\n",
    "\n",
    "    \n",
    "\n"
   ]
  }
 ],
 "metadata": {
  "kernelspec": {
   "display_name": "base",
   "language": "python",
   "name": "python3"
  },
  "language_info": {
   "codemirror_mode": {
    "name": "ipython",
    "version": 3
   },
   "file_extension": ".py",
   "mimetype": "text/x-python",
   "name": "python",
   "nbconvert_exporter": "python",
   "pygments_lexer": "ipython3",
   "version": "3.11.9"
  }
 },
 "nbformat": 4,
 "nbformat_minor": 2
}
