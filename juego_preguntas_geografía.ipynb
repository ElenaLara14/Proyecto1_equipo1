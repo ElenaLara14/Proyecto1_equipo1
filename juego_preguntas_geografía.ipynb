{
 "cells": [
  {
   "cell_type": "code",
   "execution_count": 2,
   "metadata": {},
   "outputs": [
    {
     "name": "stdout",
     "output_type": "stream",
     "text": [
      "Has respondido 'k'. Esto es incorrecto, prueba otra vez\n",
      "Has respondido 'k'. Esto es incorrecto, prueba otra vez\n",
      "Has respondido 'k'. Esto es incorrecto, prueba otra vez\n",
      "💀💀💀¡¡¡PERDISTE!!!💀💀💀\n"
     ]
    }
   ],
   "source": [
    "import random\n",
    "\n",
    "# Diccionario con preguntas y respuestas de geografía\n",
    "preguntas = {\n",
    "    \"¿Cuál es el río más largo del mundo?\": \"Nilo\",\n",
    "    \"¿En qué continente se encuentra el desierto del Sahara?\": \"África\",\n",
    "    \"¿Cuál es la capital de Australia?\": \"Canberra\",\n",
    "    \"¿Cuál es la montaña más alta del mundo?\": \"Everest\",\n",
    "    \"¿Cuál es el país más pequeño del mundo por superficie y población?\": \"Vaticano\",\n",
    "    \"¿Qué océano es el más grande del mundo?\": \"Pacífico\",\n",
    "    \"¿Cuál es el río más largo de América del Sur?\": \"Amazonas\",\n",
    "    \"¿En qué país se encuentra el desierto de Atacama?\": \"Chile\",\n",
    "    \"¿Cuál es la capital de Canadá?\": \"Ottawa\",\n",
    "    \"¿Cuál es el país más poblado del mundo?\": \"India\"}\n",
    "\n",
    "# Variables para el seguimiento de respuestas correctas e incorrectas\n",
    "respuestas_correctas = 0\n",
    "respuestas_incorrectas = 0\n",
    "\n",
    "# Convertir el diccionario a una lista de tuplas para usar con random.choice\n",
    "lista_preguntas = list(preguntas.items())\n",
    "\n",
    "# Bucle principal del juego \n",
    " \n",
    "while respuestas_correctas <= 5 or respuestas_incorrectas <= 3:\n",
    "         # Seleccionar una pregunta aleatoria - Desempaquetamos tupla para crear variable pregunta y respuesta correcta\n",
    "        pregunta, respuesta_correcta = random.choice(lista_preguntas)\n",
    "         # Preguntamos al usuario\n",
    "        usuario = (input(pregunta)) ### se repiten preguntas \n",
    "    \n",
    "        if respuesta_correcta.lower() == usuario.lower():\n",
    "            print(f\"Has respondido '{usuario}'. Esto es correcto\")\n",
    "            respuestas_correctas += 1\n",
    "            print(respuesta_correcta)\n",
    "            print(f\"Has acertado, sigue jugando\")\n",
    "            print(\"--------------------\")\n",
    "\n",
    "            if respuestas_correctas == 5:\n",
    "                print(\"🎉🎉🎉¡¡¡GANASTE!!!🎉🎉🎉\")\n",
    "                break\n",
    "\n",
    "        else:\n",
    "            print(f\"Has respondido '{usuario}'. Esto es incorrecto, prueba otra vez\")\n",
    "            respuestas_incorrectas += 1\n",
    "            if respuestas_incorrectas == 3:\n",
    "                print(\"💀💀💀¡¡¡PERDISTE!!!💀💀💀\")\n",
    "                break\n",
    "    \n"
   ]
  }
 ],
 "metadata": {
  "kernelspec": {
   "display_name": "base",
   "language": "python",
   "name": "python3"
  },
  "language_info": {
   "codemirror_mode": {
    "name": "ipython",
    "version": 3
   },
   "file_extension": ".py",
   "mimetype": "text/x-python",
   "name": "python",
   "nbconvert_exporter": "python",
   "pygments_lexer": "ipython3",
   "version": "3.11.9"
  }
 },
 "nbformat": 4,
 "nbformat_minor": 2
}
